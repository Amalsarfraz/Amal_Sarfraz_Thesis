{
 "cells": [
  {
   "cell_type": "code",
   "execution_count": 6,
   "id": "c2d1f32c-2a26-4b92-a25b-2f5ec7211827",
   "metadata": {},
   "outputs": [],
   "source": []
  },
  {
   "cell_type": "code",
   "execution_count": 2,
   "id": "8a916e62-0434-4aaa-a98a-9e262e60ab17",
   "metadata": {},
   "outputs": [],
   "source": [
    "import pandas as pd\n",
    "import plotly.graph_objects as go\n",
    "import numpy as np\n",
    "import os\n",
    "\n",
    "def create_PP_log_grouped(data, output_file_png):\n",
    "    # Calculate log of annual scarcity\n",
    "    data['Log_Annual_Scarcity'] = np.log10(data['Annual_Scarcity'])\n",
    "\n",
    "    # Sum up the demands\n",
    "    data['Cotton_Rice_Demand'] = data['Cotton_Demand'] + data['Rice_Demand']\n",
    "    data['Sugar_Misc_Demand'] = data['Sugarcane_Demand'] + data['Miscellaneous_Demand']\n",
    "\n",
    "    # Prepare the plot data\n",
    "    plot_data = data[['Cotton_Rice_Demand', 'Wheat_Demand', 'Sugar_Misc_Demand', 'Log_Annual_Scarcity', 'Variability', 'Storage_Adequacy_Points']]\n",
    "\n",
    "    # Define dimensions for the parallel coordinates plot\n",
    "    dimensions = [\n",
    "        dict(label='Cotton + Rice', values=plot_data['Cotton_Rice_Demand']),\n",
    "        dict(label='Wheat', values=plot_data['Wheat_Demand']),\n",
    "        dict(label='Sugar+Misc.', values=plot_data['Sugar_Misc_Demand']),\n",
    "        dict(label='Log Annual Scarcity', values=plot_data['Log_Annual_Scarcity']),\n",
    "        dict(label='Variability', values=plot_data['Variability']),\n",
    "        dict(label='Storage Adequacy', values=plot_data['Storage_Adequacy_Points'])\n",
    "    ]\n",
    "\n",
    "    # Restore your original color scale\n",
    "    color_scale = [[0, 'red'], [0.5, 'yellow'], [1, '#1f77b4']] \n",
    "\n",
    "    # Create the parallel coordinates plot\n",
    "    fig = go.Figure(data=go.Parcoords(line=dict(color=plot_data['Storage_Adequacy_Points'], colorscale=color_scale), dimensions=dimensions))\n",
    "\n",
    "    # Update layout\n",
    "    fig.update_layout(title='Grouped Parallel Coordinates Plot', plot_bgcolor='white', paper_bgcolor='white')\n",
    "\n",
    "    # Save the plot as a PNG image with increased DPI\n",
    "    fig.write_image(output_file_png, scale=3)  # Use the calculated scale factor for 900 DPI\n",
    "\n",
    "# Example usage\n",
    "results_folder = './Case3_km3/6. results'\n",
    "csv_file = os.path.join(results_folder, 'complete_results.csv')\n",
    "data = pd.read_csv(csv_file)\n",
    "\n",
    "output_file_png = os.path.join(results_folder,'grouped_parallel_coordinates_plot.png')\n",
    "create_PP_log_grouped(data, output_file_png)\n"
   ]
  },
  {
   "cell_type": "code",
   "execution_count": null,
   "id": "ea338869-194d-4afe-861c-a9ce0c76c1c9",
   "metadata": {},
   "outputs": [],
   "source": []
  }
 ],
 "metadata": {
  "kernelspec": {
   "display_name": "Python 3 (ipykernel)",
   "language": "python",
   "name": "python3"
  },
  "language_info": {
   "codemirror_mode": {
    "name": "ipython",
    "version": 3
   },
   "file_extension": ".py",
   "mimetype": "text/x-python",
   "name": "python",
   "nbconvert_exporter": "python",
   "pygments_lexer": "ipython3",
   "version": "3.8.18"
  }
 },
 "nbformat": 4,
 "nbformat_minor": 5
}
