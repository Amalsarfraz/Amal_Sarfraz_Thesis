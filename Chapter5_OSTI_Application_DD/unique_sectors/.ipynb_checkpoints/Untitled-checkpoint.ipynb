{
 "cells": [
  {
   "cell_type": "code",
   "execution_count": 3,
   "id": "3cd63e1d-4e5a-48ef-a7c7-23316cbe2914",
   "metadata": {},
   "outputs": [
    {
     "ename": "ValueError",
     "evalue": "cannot insert soc, already exists",
     "output_type": "error",
     "traceback": [
      "\u001b[1;31m---------------------------------------------------------------------------\u001b[0m",
      "\u001b[1;31mValueError\u001b[0m                                Traceback (most recent call last)",
      "\u001b[1;32m~\\AppData\\Local\\Temp\\ipykernel_29844\\3464745160.py\u001b[0m in \u001b[0;36m?\u001b[1;34m()\u001b[0m\n\u001b[0;32m     31\u001b[0m \u001b[1;32mimport\u001b[0m \u001b[0mpandas\u001b[0m \u001b[1;32mas\u001b[0m \u001b[0mpd\u001b[0m\u001b[1;33m\u001b[0m\u001b[1;33m\u001b[0m\u001b[0m\n\u001b[0;32m     32\u001b[0m \u001b[1;32mimport\u001b[0m \u001b[0mglob\u001b[0m\u001b[1;33m\u001b[0m\u001b[1;33m\u001b[0m\u001b[0m\n\u001b[0;32m     33\u001b[0m \u001b[1;33m\u001b[0m\u001b[0m\n\u001b[0;32m     34\u001b[0m \u001b[1;31m# Specify the directory containing the .pkl files\u001b[0m\u001b[1;33m\u001b[0m\u001b[1;33m\u001b[0m\u001b[1;33m\u001b[0m\u001b[0m\n\u001b[1;32m---> 35\u001b[1;33m \u001b[0mdirectory\u001b[0m \u001b[1;33m=\u001b[0m \u001b[1;34m'C:/Users/HP/Desktop/OSTI_Application_IRB/unique_sectors/misc/'\u001b[0m\u001b[1;33m\u001b[0m\u001b[1;33m\u001b[0m\u001b[0m\n\u001b[0m\u001b[0;32m     36\u001b[0m \u001b[1;33m\u001b[0m\u001b[0m\n\u001b[0;32m     37\u001b[0m \u001b[1;31m# Find all .pkl files in the directory\u001b[0m\u001b[1;33m\u001b[0m\u001b[1;33m\u001b[0m\u001b[1;33m\u001b[0m\u001b[0m\n\u001b[0;32m     38\u001b[0m \u001b[0mpkl_files\u001b[0m \u001b[1;33m=\u001b[0m \u001b[0mglob\u001b[0m\u001b[1;33m.\u001b[0m\u001b[0mglob\u001b[0m\u001b[1;33m(\u001b[0m\u001b[1;34mf\"{directory}/*.pkl\"\u001b[0m\u001b[1;33m)\u001b[0m\u001b[1;33m\u001b[0m\u001b[1;33m\u001b[0m\u001b[0m\n",
      "\u001b[1;32m~\\anaconda3\\envs\\osti\\lib\\site-packages\\pandas\\core\\frame.py\u001b[0m in \u001b[0;36m?\u001b[1;34m(self, level, drop, inplace, col_level, col_fill, allow_duplicates, names)\u001b[0m\n\u001b[0;32m   6205\u001b[0m                     level_values = algorithms.take(\n\u001b[0;32m   6206\u001b[0m                         \u001b[0mlevel_values\u001b[0m\u001b[1;33m,\u001b[0m \u001b[0mlab\u001b[0m\u001b[1;33m,\u001b[0m \u001b[0mallow_fill\u001b[0m\u001b[1;33m=\u001b[0m\u001b[1;32mTrue\u001b[0m\u001b[1;33m,\u001b[0m \u001b[0mfill_value\u001b[0m\u001b[1;33m=\u001b[0m\u001b[0mlev\u001b[0m\u001b[1;33m.\u001b[0m\u001b[0m_na_value\u001b[0m\u001b[1;33m\u001b[0m\u001b[1;33m\u001b[0m\u001b[0m\n\u001b[0;32m   6207\u001b[0m                     )\n\u001b[0;32m   6208\u001b[0m \u001b[1;33m\u001b[0m\u001b[0m\n\u001b[1;32m-> 6209\u001b[1;33m                 new_obj.insert(\n\u001b[0m\u001b[0;32m   6210\u001b[0m                     \u001b[1;36m0\u001b[0m\u001b[1;33m,\u001b[0m\u001b[1;33m\u001b[0m\u001b[1;33m\u001b[0m\u001b[0m\n\u001b[0;32m   6211\u001b[0m                     \u001b[0mname\u001b[0m\u001b[1;33m,\u001b[0m\u001b[1;33m\u001b[0m\u001b[1;33m\u001b[0m\u001b[0m\n\u001b[0;32m   6212\u001b[0m                     \u001b[0mlevel_values\u001b[0m\u001b[1;33m,\u001b[0m\u001b[1;33m\u001b[0m\u001b[1;33m\u001b[0m\u001b[0m\n",
      "\u001b[1;32m~\\anaconda3\\envs\\osti\\lib\\site-packages\\pandas\\core\\frame.py\u001b[0m in \u001b[0;36m?\u001b[1;34m(self, loc, column, value, allow_duplicates)\u001b[0m\n\u001b[0;32m   4768\u001b[0m                 \u001b[1;34m\"'self.flags.allows_duplicate_labels' is False.\"\u001b[0m\u001b[1;33m\u001b[0m\u001b[1;33m\u001b[0m\u001b[0m\n\u001b[0;32m   4769\u001b[0m             )\n\u001b[0;32m   4770\u001b[0m         \u001b[1;32mif\u001b[0m \u001b[1;32mnot\u001b[0m \u001b[0mallow_duplicates\u001b[0m \u001b[1;32mand\u001b[0m \u001b[0mcolumn\u001b[0m \u001b[1;32min\u001b[0m \u001b[0mself\u001b[0m\u001b[1;33m.\u001b[0m\u001b[0mcolumns\u001b[0m\u001b[1;33m:\u001b[0m\u001b[1;33m\u001b[0m\u001b[1;33m\u001b[0m\u001b[0m\n\u001b[0;32m   4771\u001b[0m             \u001b[1;31m# Should this be a different kind of error??\u001b[0m\u001b[1;33m\u001b[0m\u001b[1;33m\u001b[0m\u001b[1;33m\u001b[0m\u001b[0m\n\u001b[1;32m-> 4772\u001b[1;33m             \u001b[1;32mraise\u001b[0m \u001b[0mValueError\u001b[0m\u001b[1;33m(\u001b[0m\u001b[1;34mf\"cannot insert {column}, already exists\"\u001b[0m\u001b[1;33m)\u001b[0m\u001b[1;33m\u001b[0m\u001b[1;33m\u001b[0m\u001b[0m\n\u001b[0m\u001b[0;32m   4773\u001b[0m         \u001b[1;32mif\u001b[0m \u001b[1;32mnot\u001b[0m \u001b[0misinstance\u001b[0m\u001b[1;33m(\u001b[0m\u001b[0mloc\u001b[0m\u001b[1;33m,\u001b[0m \u001b[0mint\u001b[0m\u001b[1;33m)\u001b[0m\u001b[1;33m:\u001b[0m\u001b[1;33m\u001b[0m\u001b[1;33m\u001b[0m\u001b[0m\n\u001b[0;32m   4774\u001b[0m             \u001b[1;32mraise\u001b[0m \u001b[0mTypeError\u001b[0m\u001b[1;33m(\u001b[0m\u001b[1;34m\"loc must be int\"\u001b[0m\u001b[1;33m)\u001b[0m\u001b[1;33m\u001b[0m\u001b[1;33m\u001b[0m\u001b[0m\n\u001b[0;32m   4775\u001b[0m \u001b[1;33m\u001b[0m\u001b[0m\n",
      "\u001b[1;31mValueError\u001b[0m: cannot insert soc, already exists"
     ]
    }
   ],
   "source": [
    "import pandas as pd\n",
    "import glob\n",
    "\n",
    "# Specify the directory containing the .pkl files\n",
    "directory = 'C:/Users/HP/Desktop/OSTI_Application_IRB/unique_sectors/misc/'\n",
    "\n",
    "# Find all .pkl files in the directory\n",
    "pkl_files = glob.glob(f\"{directory}/*.pkl\")\n",
    "\n",
    "# Initialize an empty DataFrame to store aggregated data\n",
    "aggregated_data = pd.DataFrame()\n",
    "\n",
    "# Read each .pkl file and aggregate the data\n",
    "for file in pkl_files:\n",
    "    df = pd.read_pickle(file)\n",
    "    # Normalize column names\n",
    "    df.columns = [x.lower().strip() for x in df.columns]\n",
    "\n",
    "    # Ensure the necessary columns are present\n",
    "    necessary_columns = ['irri_ww', 'esm', 'tax', 'gw', 'res', 'ssp', 'ag', 'soc']\n",
    "    if all(col in df.columns for col in necessary_columns):\n",
    "        # Group by the specific combination of columns and sum 'irri_ww'\n",
    "        # Keep the first occurrence of the other columns\n",
    "        group_columns = ['esm', 'tax', 'gw', 'res', 'ssp', 'ag', 'soc']\n",
    "        aggregation_functions = {col: 'first' for col in df.columns if col not in group_columns}\n",
    "        aggregation_functions['irri_ww'] = 'sum'\n",
    "        sum_data = df.groupby(group_columns).agg(aggregation_functions).reset_index()\n",
    "        aggregated_data = pd.concat([aggregated_data, sum_data], ignore_index=True)\n",
    "\n",
    "# Further aggregate to ensure sums across all files for each unique scenario\n",
    "if not aggregated_data.empty:\n",
    "    final_columns = ['esm', 'tax', 'gw', 'res', 'ssp', 'ag', 'soc'] + [col for col in aggregated_data.columns if col not in ['esm', 'tax', 'gw', 'res', 'ssp', 'ag', 'soc']]\n",
    "    final_aggregation_functions = {col: 'first' for col in aggregated_data.columns if col != 'irri_ww'}\n",
    "    final_aggregation_functions['irri_ww'] = 'sum'\n",
    "    final_aggregated_data = aggregated_data.groupby(['esm', 'tax', 'gw', 'res', 'ssp', 'ag', 'soc']).agg(final_aggregation_functions).reset_index()\n",
    "    final_aggregated_data  # Display the final aggregated data\n",
    "else:\n",
    "    print(\"No data to display. Check the column names and data integrity in the source files.\")\n"
   ]
  },
  {
   "cell_type": "code",
   "execution_count": 4,
   "id": "80b353cc-7f02-4b37-b47f-df4b3bc9ddf8",
   "metadata": {},
   "outputs": [
    {
     "name": "stdout",
     "output_type": "stream",
     "text": [
      "     esm tax gw res ssp ag soc     irri_ww\n",
      "0      1   1  1   1   1  1   1  309.992839\n",
      "1      1   1  1   1   1  1   2  295.646256\n",
      "2      1   1  1   1   1  1   3  256.365321\n",
      "3      1   1  1   1   1  1   4  491.376771\n",
      "4      1   1  1   1   1  1   5  342.704558\n",
      "...   ..  .. ..  ..  .. ..  ..         ...\n",
      "2991   5   2  3   2   2  5   1  507.415891\n",
      "2992   5   2  3   2   2  5   2  502.677811\n",
      "2993   5   2  3   2   2  5   3  495.858962\n",
      "2994   5   2  3   2   2  5   4  516.989518\n",
      "2995   5   2  3   2   2  5   5  509.790758\n",
      "\n",
      "[2996 rows x 8 columns]\n"
     ]
    }
   ],
   "source": [
    "import pandas as pd\n",
    "import glob\n",
    "\n",
    "# Specify the directory containing the .pkl files\n",
    "directory = 'C:/Users/HP/Desktop/OSTI_Application_IRB/unique_sectors/misc/'\n",
    "\n",
    "# Find all .pkl files in the directory\n",
    "pkl_files = glob.glob(f\"{directory}/*.pkl\")\n",
    "\n",
    "# Initialize an empty DataFrame to store aggregated data\n",
    "aggregated_data = pd.DataFrame()\n",
    "\n",
    "# Read each .pkl file and aggregate the data\n",
    "for file in pkl_files:\n",
    "    df = pd.read_pickle(file)\n",
    "    # Normalize column names\n",
    "    df.columns = [x.lower().strip() for x in df.columns]\n",
    "    # Group by the specific combination of columns and sum 'irri_ww'\n",
    "    if all(col in df.columns for col in ['irri_ww', 'esm', 'tax', 'gw', 'res', 'ssp', 'ag', 'soc']):\n",
    "        sum_data = df.groupby(['esm', 'tax', 'gw', 'res', 'ssp', 'ag', 'soc'], as_index=False)['irri_ww'].sum()\n",
    "        aggregated_data = pd.concat([aggregated_data, sum_data], ignore_index=True)\n",
    "\n",
    "# Final aggregation to combine sums across files for each unique scenario\n",
    "if not aggregated_data.empty:\n",
    "    final_aggregated_data = aggregated_data.groupby(['esm', 'tax', 'gw', 'res', 'ssp', 'ag', 'soc'], as_index=False)['irri_ww'].sum()\n",
    "    print(final_aggregated_data)  # Display the final aggregated data\n",
    "else:\n",
    "    print(\"No data to display. Check the column names and data integrity in the source files.\")\n"
   ]
  },
  {
   "cell_type": "code",
   "execution_count": null,
   "id": "77410777-c7e9-4975-9335-79064bc4198e",
   "metadata": {},
   "outputs": [],
   "source": []
  }
 ],
 "metadata": {
  "kernelspec": {
   "display_name": "Python 3 (ipykernel)",
   "language": "python",
   "name": "python3"
  },
  "language_info": {
   "codemirror_mode": {
    "name": "ipython",
    "version": 3
   },
   "file_extension": ".py",
   "mimetype": "text/x-python",
   "name": "python",
   "nbconvert_exporter": "python",
   "pygments_lexer": "ipython3",
   "version": "3.8.18"
  }
 },
 "nbformat": 4,
 "nbformat_minor": 5
}
